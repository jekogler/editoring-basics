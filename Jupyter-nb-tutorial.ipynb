{
 "cells": [
  {
   "cell_type": "markdown",
   "id": "b5c09e77-7e47-4179-874d-408e29fc189b",
   "metadata": {},
   "source": [
    "J.Kogler - 202208150955 - Working notes\n",
    "\n",
    "-------------------------------------------------------------"
   ]
  },
  {
   "cell_type": "markdown",
   "id": "520ce2c2-2486-446a-a228-570d1e3671fa",
   "metadata": {},
   "source": [
    "# Jupyter notebook tutorial"
   ]
  },
  {
   "cell_type": "markdown",
   "id": "925eed6b-f064-43c8-9779-ddb2aa03c2ff",
   "metadata": {},
   "source": [
    "Tutorial sobre como usar o *Jupyter notebook*\n",
    "\n",
    "    * Links de referência :"
   ]
  },
  {
   "cell_type": "markdown",
   "id": "9db09bc8-0d8e-4907-a725-16834b82e604",
   "metadata": {},
   "source": [
    "* [Video] (https://www.youtube.com/watch?v=szP9IRbwO9o)\n",
    "* [Tutorial] (https://patrickwalls.github.io/mathematicalpython/)"
   ]
  },
  {
   "cell_type": "markdown",
   "id": "18d8164e-ecca-4001-9430-b162fa3d1e47",
   "metadata": {},
   "source": [
    "-------------------------------------------------------------"
   ]
  },
  {
   "cell_type": "markdown",
   "id": "584b325a-4bcd-4de9-904c-0b0eeaa70453",
   "metadata": {
    "tags": []
   },
   "source": [
    "### Atalhos de teclado úteis\n",
    "\n",
    "* **Esc** para entrar no modo comando (sair da célula edição)\n",
    "* **Enter** para entrar numa célula de edição\n",
    "\n",
    "* \"M\" para transformar a célula em *markdown*\n",
    "* \"Y\" para transformar a célula em *código*\n",
    "* \"B\" para criar nova célula abaixo ( *below* )\n",
    "* \"A\" para criar nova célula acima ( *above* )\n",
    "* `control-enter` para executar a célula (markdown ou código)\n",
    "* `shift-enter` para executar e ir para a próxima célula\n",
    "* esc para sair da célula"
   ]
  },
  {
   "cell_type": "markdown",
   "id": "2f2d0497-6b1a-483b-bee7-784f559841af",
   "metadata": {
    "tags": []
   },
   "source": [
    "* `shift-M` para mesclar ( *merge* ) células\n",
    "* `control-shift-`*menos* , para dividir em duas células no ponto em que estiver  posicionado o cursor"
   ]
  },
  {
   "cell_type": "markdown",
   "id": "cb549b17-0ebe-4c0d-bbd6-38fa9e0c2461",
   "metadata": {},
   "source": [
    "### Estilos de ênfase em texto\n",
    "\n",
    "*Itálico*\n",
    "**Bold**\n",
    "`Code`\n",
    "~~Riscado~~"
   ]
  },
  {
   "cell_type": "code",
   "execution_count": 3,
   "id": "a70fe110-09b8-45bd-85eb-66cb3e12af99",
   "metadata": {},
   "outputs": [],
   "source": [
    "# *Itálico*\n",
    "# **Bold**\n",
    "# `Code`\n",
    "# ~~Riscado~~\n",
    "# Obs. - Não esquecer de dar um espaço após cada apóstrofe ` n`\n",
    "# estilo `code` e após cada til ~ no estilo ~~Riscado~~"
   ]
  },
  {
   "cell_type": "markdown",
   "id": "c3a6807f-a46a-4cbe-acf9-3113b5017af5",
   "metadata": {
    "tags": []
   },
   "source": [
    "### Como gerar um pdf do notebook \n",
    "\n",
    "* Entrar em um terminal \n",
    "* Executar, indicando o nome do notebook (*filename*):"
   ]
  },
  {
   "cell_type": "markdown",
   "id": "3ddfa869-4ed8-49d7-9101-fd0a7a6ec6b1",
   "metadata": {},
   "source": [
    "<blockquote> jupyter nbconvert filename.ipynb --to pdf </blockquote>"
   ]
  },
  {
   "cell_type": "markdown",
   "id": "3d68df00-d6d0-45d1-8f4f-c8a2ff62a194",
   "metadata": {},
   "source": [
    "### Testes de execução de código em python"
   ]
  },
  {
   "cell_type": "code",
   "execution_count": 4,
   "id": "a66c815b-4093-4b01-951d-51182c608573",
   "metadata": {},
   "outputs": [
    {
     "name": "stdout",
     "output_type": "stream",
     "text": [
      "este não foi o primeiro teste\n"
     ]
    }
   ],
   "source": [
    "print(\"este não foi o primeiro teste\")"
   ]
  },
  {
   "cell_type": "code",
   "execution_count": null,
   "id": "2be90231-330a-4fcc-ace8-f51293d70d9b",
   "metadata": {},
   "outputs": [
    {
     "name": "stdout",
     "output_type": "stream",
     "text": [
      "isto é um teste\n"
     ]
    }
   ],
   "source": [
    "print(\"isto é um teste\") "
   ]
  },
  {
   "cell_type": "markdown",
   "id": "18b1e9c6-04bf-4b43-8ef3-3d77ed2a9b93",
   "metadata": {},
   "source": [
    "### Usando textos coloridos"
   ]
  },
  {
   "cell_type": "markdown",
   "id": "c54c28b3-8247-4725-a654-9da468f7c957",
   "metadata": {},
   "source": [
    "Entretanto, como os comandos são HTML, eles não aparecerão coloridos no documento em pdf correspondente.  Para tanto, dever-se-ia usar algum comando equivalente em LaTeX."
   ]
  },
  {
   "cell_type": "code",
   "execution_count": 2,
   "id": "c45478fa-f4d5-42d9-8869-d28c07f8dd50",
   "metadata": {},
   "outputs": [],
   "source": [
    "## <span style='color:green'> text </span> \n",
    "## <span style='color:Red'> text  </span>\n",
    "## <span style='background:yellow'> text </span>"
   ]
  },
  {
   "cell_type": "markdown",
   "id": "5e2b75cf-e187-465f-9b99-046c7f76eafe",
   "metadata": {},
   "source": [
    "<span style='color:green'> My message. </span>\n",
    "\n",
    "<span style='color:Red'> My message.  </span>\n",
    "\n",
    "<span style='background:yellow'> My message.  </span>"
   ]
  },
  {
   "cell_type": "code",
   "execution_count": 1,
   "id": "4e88f2ed-de94-4c47-81b2-858ce73efff9",
   "metadata": {},
   "outputs": [],
   "source": [
    "# Ou, talvez, se o objetivo for apenas ter um espaço de texto \n",
    "# colorido para colocar comentários adicionais, sejaais prático \n",
    "# trabalhar com uma célula de código, em vez de célula de texto, \n",
    "# escrevendo nela um longo comentário, como aqui nesta.\n"
   ]
  },
  {
   "cell_type": "markdown",
   "id": "1dc0b201-8908-4952-8aa0-d3cd40e6cf8f",
   "metadata": {},
   "source": [
    "## Teste de LateX"
   ]
  },
  {
   "cell_type": "markdown",
   "id": "5ea2a07c-55ff-40bd-a85c-6726a23b938f",
   "metadata": {},
   "source": [
    " $ e^{i \\pi} + 1 = 0 $ \n",
    " \n",
    "\\begin{align}\n",
    "P(A \\mid B) = \\frac{P(B \\mid A) \\, P(A)}{P(B)}\n",
    "\\end{align}\n",
    "\n",
    "\\begin{align}\n",
    "\\mathbf{a} \\cdot \\mathbf{b} = \\sum_{i=1}^n a_i b_i.\n",
    "\\end{align}"
   ]
  },
  {
   "cell_type": "markdown",
   "id": "1e0a599b-ce86-4d36-a981-8bf898e01519",
   "metadata": {},
   "source": [
    "The formulae above were specified using LaTeX in a markdown environment. \n",
    "\n",
    "<span style='color:Red'> I don't know why, but you have to execute twice the comand for cell parsing. </span>\n",
    "\n",
    "<span style='color:blue'> It never worked in the first time when was LaTeX was used in this notebook. </span>\n",
    "\n",
    "Não sei porque escrevi em inglês acima... De qualquer forma, as fórmulas acima especificadas como mostrado abaixo:"
   ]
  },
  {
   "cell_type": "code",
   "execution_count": 1,
   "id": "e2c716ca-067d-4a79-ad09-5daaa18cea82",
   "metadata": {},
   "outputs": [],
   "source": [
    "# $ e^{i \\pi} + 1 = 0 $ \n",
    " \n",
    "# \\begin{align}\n",
    "# P(A \\mid B) = \\frac{P(B \\mid A) \\, P(A)}{P(B)}\n",
    "# \\end{align}\n",
    "\n",
    "# \\begin{align}\n",
    "# \\mathbf{a} \\cdot \\mathbf{b} = \\sum_{i=1}^n a_i b_i.\n",
    "# \\end{align}"
   ]
  },
  {
   "cell_type": "markdown",
   "id": "2697582f-13bf-4438-bc3a-f526f8290a89",
   "metadata": {},
   "source": [
    "A seguir, mais um link de referência sobre uso de LaTeX no Jupyter notebook: "
   ]
  },
  {
   "cell_type": "markdown",
   "id": "e471138c-1e38-472a-bb94-b90c4490d36a",
   "metadata": {},
   "source": [
    "* [Caltech link] (http://chebe163.caltech.edu/2018w/handouts/intro_to_latex.html)\n"
   ]
  },
  {
   "cell_type": "markdown",
   "id": "2f44dae6-d73c-4e20-bd63-5b1808d9fc30",
   "metadata": {},
   "source": [
    "LaTeX new test: $ \\frac{a}{b} = \\frac{c}{d} $."
   ]
  },
  {
   "cell_type": "markdown",
   "id": "02c4e507-8438-4176-9876-6790f81a9594",
   "metadata": {},
   "source": [
    "Continua exigindo dois comandos de execução da célula de *markdown* de modo a executar o LaTeX."
   ]
  },
  {
   "cell_type": "markdown",
   "id": "5334a80a-6448-4488-b344-6201ae4689d6",
   "metadata": {},
   "source": [
    "## Como incluir imagens\n",
    "\n",
    "* **No notebook:**\n",
    "    * Em uma célula de texto (Markdown) - exemplo:  "
   ]
  },
  {
   "cell_type": "code",
   "execution_count": 1,
   "id": "9b01af4a-6e52-47c7-9b89-e22e1bca5d17",
   "metadata": {},
   "outputs": [],
   "source": [
    "# ![](./pics/hipo-icon.png)  "
   ]
  },
  {
   "cell_type": "markdown",
   "id": "e4ab7ea8-a0ad-4673-b30c-f25edabc31c9",
   "metadata": {},
   "source": [
    "![](./pics/hipo-icon.png)  \n",
    "\n",
    "Obs - drag-and-drop também funciona na célula markdown"
   ]
  },
  {
   "cell_type": "markdown",
   "id": "138b1bba-0a63-4e86-a19e-9ab7b7c72bfd",
   "metadata": {},
   "source": [
    "* **No pdf** - para gerar arquivo pdf com imagem, primeiro precisa gerar o arquivo .tex n console do terminal usando o comando:"
   ]
  },
  {
   "cell_type": "markdown",
   "id": "2a9aa11c-996c-4977-ba50-664918d56571",
   "metadata": {},
   "source": [
    "<blockquote> jupyter nbconvert filename.ipynb --to latex </blockquote>"
   ]
  },
  {
   "cell_type": "markdown",
   "id": "1ff711f8-892a-49f2-97a6-63d85da660a5",
   "metadata": {},
   "source": [
    "* depois, converter o arquivo filename.tex resultante no console do terminal executando o comando **xelatex** "
   ]
  },
  {
   "cell_type": "markdown",
   "id": "da72541e-a0a7-4f53-9ea4-8449a524a90f",
   "metadata": {},
   "source": [
    "<blockquote> xelatex filename.tex </blockquote> "
   ]
  },
  {
   "cell_type": "code",
   "execution_count": null,
   "id": "ff068061-1233-41f7-8db0-8cf1ba411cdb",
   "metadata": {},
   "outputs": [],
   "source": []
  }
 ],
 "metadata": {
  "kernelspec": {
   "display_name": "Python 3",
   "language": "python",
   "name": "python3"
  },
  "language_info": {
   "codemirror_mode": {
    "name": "ipython",
    "version": 3
   },
   "file_extension": ".py",
   "mimetype": "text/x-python",
   "name": "python",
   "nbconvert_exporter": "python",
   "pygments_lexer": "ipython3",
   "version": "3.8.8"
  }
 },
 "nbformat": 4,
 "nbformat_minor": 5
}
